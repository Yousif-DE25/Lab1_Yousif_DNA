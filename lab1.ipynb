{
 "cells": [
  {
   "cell_type": "markdown",
   "id": "a24e49cc",
   "metadata": {},
   "source": [
    "# Task one"
   ]
  },
  {
   "cell_type": "code",
   "execution_count": null,
   "id": "dde1fb9d",
   "metadata": {},
   "outputs": [
    {
     "ename": "AttributeError",
     "evalue": "'_io.TextIOWrapper' object has no attribute 'lines'",
     "output_type": "error",
     "traceback": [
      "\u001b[31m---------------------------------------------------------------------------\u001b[39m",
      "\u001b[31mAttributeError\u001b[39m                            Traceback (most recent call last)",
      "\u001b[36mCell\u001b[39m\u001b[36m \u001b[39m\u001b[32mIn[1]\u001b[39m\u001b[32m, line 6\u001b[39m\n\u001b[32m      4\u001b[39m \u001b[38;5;66;03m# First we put in file\u001b[39;00m\n\u001b[32m      5\u001b[39m \u001b[38;5;28;01mwith\u001b[39;00m \u001b[38;5;28mopen\u001b[39m(\u001b[33m\"\u001b[39m\u001b[33mDnaraw.txt\u001b[39m\u001b[33m\"\u001b[39m, \u001b[33m\"\u001b[39m\u001b[33mr\u001b[39m\u001b[33m\"\u001b[39m) \u001b[38;5;28;01mas\u001b[39;00m file:\n\u001b[32m----> \u001b[39m\u001b[32m6\u001b[39m     lines = \u001b[43mfile\u001b[49m\u001b[43m.\u001b[49m\u001b[43mlines\u001b[49m()\n\u001b[32m      7\u001b[39m \u001b[38;5;66;03m# Then we need some place to save the sequence\u001b[39;00m\n\u001b[32m      8\u001b[39m sequences = {}\n",
      "\u001b[31mAttributeError\u001b[39m: '_io.TextIOWrapper' object has no attribute 'lines'"
     ]
    }
   ],
   "source": [
    "# We import matplotlib to be able to draw the diagram\n",
    "import matplotlib as plt\n",
    "\n",
    "# First we put in file\n",
    "with open(\"Dnaraw.txt\", \"r\") as file:\n",
    "    lines = file.lines()\n",
    "# Then we need some place to save the sequence\n",
    "sequences = {}\n",
    "\n",
    "# Now we try to put in the lines from the file\n",
    "for line in lines:\n",
    "    line = line.strip() # Strip to take away space and other breaks in a line"
   ]
  }
 ],
 "metadata": {
  "kernelspec": {
   "display_name": "Lab1_Yousif_DNA",
   "language": "python",
   "name": "python3"
  },
  "language_info": {
   "codemirror_mode": {
    "name": "ipython",
    "version": 3
   },
   "file_extension": ".py",
   "mimetype": "text/x-python",
   "name": "python",
   "nbconvert_exporter": "python",
   "pygments_lexer": "ipython3",
   "version": "3.12.10"
  }
 },
 "nbformat": 4,
 "nbformat_minor": 5
}
